{
 "cells": [
  {
   "cell_type": "code",
   "execution_count": 1,
   "metadata": {},
   "outputs": [],
   "source": [
    "import random"
   ]
  },
  {
   "cell_type": "code",
   "execution_count": 2,
   "metadata": {},
   "outputs": [
    {
     "name": "stdout",
     "output_type": "stream",
     "text": [
      "guess the number: 65\n",
      "guess lower\n",
      "guess the number: 54\n",
      "guess lower\n",
      "guess the number: 42\n",
      "guess lower\n",
      "guess the number: 0\n",
      "guess higher\n",
      "guess the number: 14\n",
      "guess lower\n",
      "guess the number: 7\n",
      "guess higher\n",
      "guess the number: 10\n",
      "\n",
      " you guessed it right!! \n",
      "\n",
      "you took  7 attempts\n"
     ]
    }
   ],
   "source": [
    "jackpot = random.randint(1,100)\n",
    "\n",
    "guess = int(input(\"guess the number: \"))\n",
    "counter = 1\n",
    "\n",
    "while guess != jackpot:\n",
    "    \n",
    "    if guess < jackpot:\n",
    "        print(\"guess higher\")\n",
    "    else:\n",
    "        print(\"guess lower\")\n",
    "    \n",
    "    guess = int(input(\"guess the number: \"))\n",
    "    counter += 1\n",
    "    \n",
    "print(\"\\n\", \"you guessed it right!!\", \"\\n\")\n",
    "print(\"you took \", counter, \"attempts\")"
   ]
  },
  {
   "cell_type": "code",
   "execution_count": null,
   "metadata": {},
   "outputs": [],
   "source": []
  },
  {
   "cell_type": "code",
   "execution_count": null,
   "metadata": {},
   "outputs": [],
   "source": []
  },
  {
   "cell_type": "code",
   "execution_count": null,
   "metadata": {},
   "outputs": [],
   "source": []
  },
  {
   "cell_type": "code",
   "execution_count": null,
   "metadata": {},
   "outputs": [],
   "source": []
  }
 ],
 "metadata": {
  "kernelspec": {
   "display_name": "Python 3",
   "language": "python",
   "name": "python3"
  },
  "language_info": {
   "codemirror_mode": {
    "name": "ipython",
    "version": 3
   },
   "file_extension": ".py",
   "mimetype": "text/x-python",
   "name": "python",
   "nbconvert_exporter": "python",
   "pygments_lexer": "ipython3",
   "version": "3.7.6"
  }
 },
 "nbformat": 4,
 "nbformat_minor": 4
}
